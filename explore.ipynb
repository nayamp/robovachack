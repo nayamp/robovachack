{
 "cells": [
  {
   "cell_type": "code",
   "execution_count": 2,
   "metadata": {},
   "outputs": [
    {
     "name": "stdout",
     "output_type": "stream",
     "text": [
      "<Response [200]>\n"
     ]
    }
   ],
   "source": [
    "import requests\n",
    "import time\n",
    "response=requests.get(url=\"http://10.0.0.161:5010/forward\")\n",
    "print(response)\n",
    "time.sleep(1)\n",
    "response=requests.get(url=\"http://10.0.0.161:5010/reverse\")\n",
    "print(response)\n",
    "time.sleep(1)\n",
    "response=requests.get(url=\"http://10.0.0.161:5010/left\")\n",
    "print(response)\n",
    "time.sleep(1)\n",
    "response=requests.get(url=\"http://10.0.0.161:5010/right\")\n",
    "print(response)\n",
    "time.sleep(1)\n"
   ]
  },
  {
   "cell_type": "code",
   "execution_count": 7,
   "metadata": {},
   "outputs": [],
   "source": [
    "import sys\n",
    "import pygame\n",
    "from pygame.locals import *"
   ]
  },
  {
   "cell_type": "code",
   "execution_count": 5,
   "metadata": {},
   "outputs": [],
   "source": [
    "class joystick_handler(object):\n",
    "    def __init__(self, id):\n",
    "        self.id = id\n",
    "        self.joy = pygame.joystick.Joystick(id)\n",
    "        self.name = self.joy.get_name()\n",
    "        self.joy.init()\n",
    "        self.numaxes    = self.joy.get_numaxes()\n",
    "        self.numballs   = self.joy.get_numballs()\n",
    "        self.numbuttons = self.joy.get_numbuttons()\n",
    "        self.numhats    = self.joy.get_numhats()\n",
    "\n",
    "        self.axis = []\n",
    "        for i in range(self.numaxes):\n",
    "            self.axis.append(self.joy.get_axis(i))\n",
    "\n",
    "        self.ball = []\n",
    "        for i in range(self.numballs):\n",
    "            self.ball.append(self.joy.get_ball(i))\n",
    "\n",
    "        self.button = []\n",
    "        for i in range(self.numbuttons):\n",
    "            self.button.append(self.joy.get_button(i))\n",
    "\n",
    "        self.hat = []\n",
    "        for i in range(self.numhats):\n",
    "            self.hat.append(self.joy.get_hat(i))"
   ]
  },
  {
   "cell_type": "code",
   "execution_count": 9,
   "metadata": {},
   "outputs": [],
   "source": [
    "class input_test(object):\n",
    "    def init(self):\n",
    "        pygame.init()\n",
    "        pygame.event.set_blocked((MOUSEMOTION, MOUSEBUTTONUP, MOUSEBUTTONDOWN))\n",
    "  \n",
    "        self.joycount = pygame.joystick.get_count()\n",
    "        if self.joycount == 0:\n",
    "            print(\"This program only works with at least one joystick plugged in. No joysticks were detected.\")\n",
    "            self.quit(1)\n",
    "        self.joy = []\n",
    "        for i in range(self.joycount):\n",
    "            self.joy.append(joystick_handler(i))\n",
    "\n",
    "    def run(self):\n",
    "        # self.screen = pygame.display.set_mode(self.resolution, RESIZABLE)\n",
    "        # pygame.display.set_caption(self.program.nameversion)\n",
    "        # self.circle.convert()\n",
    "\n",
    "        while True:\n",
    "            # for i in range(self.joycount):\n",
    "            #     self.draw_joy(i)\n",
    "            # pygame.display.flip()\n",
    "            # self.clock.tick(30)\n",
    "            for event in [pygame.event.wait(), ] + pygame.event.get():\n",
    "                # QUIT             none\n",
    "                # ACTIVEEVENT      gain, state\n",
    "                # KEYDOWN          unicode, key, mod\n",
    "                # KEYUP            key, mod\n",
    "                # MOUSEMOTION      pos, rel, buttons\n",
    "                # MOUSEBUTTONUP    pos, button\n",
    "                # MOUSEBUTTONDOWN  pos, button\n",
    "                # JOYAXISMOTION    joy, axis, value\n",
    "                # JOYBALLMOTION    joy, ball, rel\n",
    "                # JOYHATMOTION     joy, hat, value\n",
    "                # JOYBUTTONUP      joy, button\n",
    "                # JOYBUTTONDOWN    joy, button\n",
    "                # VIDEORESIZE      size, w, h\n",
    "                # VIDEOEXPOSE      none\n",
    "                # USEREVENT        code\n",
    "                if event.type == QUIT:\n",
    "                    self.quit()\n",
    "                # elif event.type == KEYDOWN and event.key in [K_ESCAPE, K_q]:\n",
    "                #     self.quit()\n",
    "                # elif event.type == VIDEORESIZE:\n",
    "                #     self.screen = pygame.display.set_mode(event.size, RESIZABLE)\n",
    "                while event.type == JOYAXISMOTION:\n",
    "                    self.joy[event.joy].axis[event.axis] = event.value\n",
    "                    if event.value>.06 or event.value<-.06:\n",
    "                        if event.axis==1 and event.value>0:\n",
    "                            response=requests.get(url=\"http://10.0.0.161:5010/forward\")\n",
    "                            print(response)\n",
    "                        print('AXIS!  VALUE=',event.axis,event.value)\n",
    "                while event.type == JOYBALLMOTION:\n",
    "                    self.joy[event.joy].ball[event.ball] = event.rel\n",
    "                    print('BALL!  VALUE=',event.ball,event.rel)\n",
    "                while event.type == JOYHATMOTION:\n",
    "                    self.joy[event.joy].hat[event.hat] = event.value\n",
    "                    print('HAT!  VALUE=',event.hat,event.value)\n",
    "                while event.type == JOYBUTTONUP:\n",
    "                    self.joy[event.joy].button[event.button] = 0\n",
    "                    print('BUTTONUP!  VALUE=',event.button)\n",
    "                while event.type == JOYBUTTONDOWN:\n",
    "                    self.joy[event.joy].button[event.button] = 1\n",
    "                    print('BUTTONDOWN!  VALUE=',event.button)\n",
    "\n",
    "\n",
    "    def quit(self, status=0):\n",
    "        pygame.quit()\n",
    "        sys.exit(status)"
   ]
  },
  {
   "cell_type": "code",
   "execution_count": 11,
   "metadata": {},
   "outputs": [
    {
     "ename": "KeyboardInterrupt",
     "evalue": "",
     "output_type": "error",
     "traceback": [
      "\u001b[0;31m---------------------------------------------------------------------------\u001b[0m",
      "\u001b[0;31mKeyboardInterrupt\u001b[0m                         Traceback (most recent call last)",
      "Cell \u001b[0;32mIn[11], line 3\u001b[0m\n\u001b[1;32m      1\u001b[0m program \u001b[38;5;241m=\u001b[39m input_test()\n\u001b[1;32m      2\u001b[0m program\u001b[38;5;241m.\u001b[39minit()\n\u001b[0;32m----> 3\u001b[0m \u001b[43mprogram\u001b[49m\u001b[38;5;241;43m.\u001b[39;49m\u001b[43mrun\u001b[49m\u001b[43m(\u001b[49m\u001b[43m)\u001b[49m  \u001b[38;5;66;03m# This function should never return\u001b[39;00m\n",
      "Cell \u001b[0;32mIn[9], line 46\u001b[0m, in \u001b[0;36minput_test.run\u001b[0;34m(self)\u001b[0m\n\u001b[1;32m     41\u001b[0m     \u001b[38;5;28mself\u001b[39m\u001b[38;5;241m.\u001b[39mquit()\n\u001b[1;32m     42\u001b[0m \u001b[38;5;66;03m# elif event.type == KEYDOWN and event.key in [K_ESCAPE, K_q]:\u001b[39;00m\n\u001b[1;32m     43\u001b[0m \u001b[38;5;66;03m#     self.quit()\u001b[39;00m\n\u001b[1;32m     44\u001b[0m \u001b[38;5;66;03m# elif event.type == VIDEORESIZE:\u001b[39;00m\n\u001b[1;32m     45\u001b[0m \u001b[38;5;66;03m#     self.screen = pygame.display.set_mode(event.size, RESIZABLE)\u001b[39;00m\n\u001b[0;32m---> 46\u001b[0m \u001b[38;5;28;01mwhile\u001b[39;00m event\u001b[38;5;241m.\u001b[39mtype \u001b[38;5;241m==\u001b[39m JOYAXISMOTION:\n\u001b[1;32m     47\u001b[0m     \u001b[38;5;28mself\u001b[39m\u001b[38;5;241m.\u001b[39mjoy[event\u001b[38;5;241m.\u001b[39mjoy]\u001b[38;5;241m.\u001b[39maxis[event\u001b[38;5;241m.\u001b[39maxis] \u001b[38;5;241m=\u001b[39m event\u001b[38;5;241m.\u001b[39mvalue\n\u001b[1;32m     48\u001b[0m     \u001b[38;5;28;01mif\u001b[39;00m event\u001b[38;5;241m.\u001b[39mvalue\u001b[38;5;241m>\u001b[39m\u001b[38;5;241m.06\u001b[39m \u001b[38;5;129;01mor\u001b[39;00m event\u001b[38;5;241m.\u001b[39mvalue\u001b[38;5;241m<\u001b[39m\u001b[38;5;241m-\u001b[39m\u001b[38;5;241m.06\u001b[39m:\n",
      "\u001b[0;31mKeyboardInterrupt\u001b[0m: "
     ]
    }
   ],
   "source": [
    "program = input_test()\n",
    "program.init()\n",
    "program.run()  # This function should never return"
   ]
  },
  {
   "cell_type": "code",
   "execution_count": null,
   "metadata": {},
   "outputs": [],
   "source": []
  }
 ],
 "metadata": {
  "kernelspec": {
   "display_name": "Python 3",
   "language": "python",
   "name": "python3"
  },
  "language_info": {
   "codemirror_mode": {
    "name": "ipython",
    "version": 3
   },
   "file_extension": ".py",
   "mimetype": "text/x-python",
   "name": "python",
   "nbconvert_exporter": "python",
   "pygments_lexer": "ipython3",
   "version": "3.12.3"
  }
 },
 "nbformat": 4,
 "nbformat_minor": 2
}
